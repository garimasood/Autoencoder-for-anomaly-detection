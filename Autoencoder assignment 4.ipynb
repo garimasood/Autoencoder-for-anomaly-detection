{
 "cells": [
  {
   "cell_type": "code",
   "execution_count": 2,
   "metadata": {},
   "outputs": [],
   "source": [
    "import pandas as pd"
   ]
  },
  {
   "cell_type": "code",
   "execution_count": 7,
   "metadata": {},
   "outputs": [],
   "source": [
    "import numpy as np"
   ]
  },
  {
   "cell_type": "code",
   "execution_count": 39,
   "metadata": {},
   "outputs": [],
   "source": [
    "from sklearn import preprocessing"
   ]
  },
  {
   "cell_type": "code",
   "execution_count": 152,
   "metadata": {},
   "outputs": [
    {
     "name": "stdout",
     "output_type": "stream",
     "text": [
      "Shape of kddCupTrain:  (985262, 42)\n",
      "There are any missing values:  False\n",
      "   0    1     2   3    4      5   6   7   8   9    ...     32   33   34   35  \\\n",
      "0   0  tcp  http  SF  215  45076   0   0   0   0   ...      0  0.0  0.0  0.0   \n",
      "1   0  tcp  http  SF  162   4528   0   0   0   0   ...      1  1.0  0.0  1.0   \n",
      "2   0  tcp  http  SF  236   1228   0   0   0   0   ...      2  1.0  0.0  0.5   \n",
      "\n",
      "    36   37   38   39   40       41  \n",
      "0  0.0  0.0  0.0  0.0  0.0  normal.  \n",
      "1  0.0  0.0  0.0  0.0  0.0  normal.  \n",
      "2  0.0  0.0  0.0  0.0  0.0  normal.  \n",
      "\n",
      "[3 rows x 42 columns]\n"
     ]
    }
   ],
   "source": [
    "kddCupTrain = pd.read_csv('kddCupTrain.csv',header=None)\n",
    "print(\"Shape of kddCupTrain: \",kddCupTrain.shape)\n",
    "print(\"There are any missing values: \", kddCupTrain.isnull().values.any())\n",
    "print(kddCupTrain.head(3))"
   ]
  },
  {
   "cell_type": "code",
   "execution_count": 162,
   "metadata": {},
   "outputs": [
    {
     "data": {
      "text/plain": [
       "array(['normal.', 'ipsweep.'], dtype=object)"
      ]
     },
     "execution_count": 162,
     "metadata": {},
     "output_type": "execute_result"
    }
   ],
   "source": [
    "kddCupTrain.iloc[:,-1].unique()"
   ]
  },
  {
   "cell_type": "code",
   "execution_count": 163,
   "metadata": {},
   "outputs": [],
   "source": [
    "kddCupTrain.rename(columns={41:'Class'}, inplace=True)\n",
    "kddCupTrain['Class'] = np.where(kddCupTrain['Class'] == 'normal.', 0, 1)"
   ]
  },
  {
   "cell_type": "code",
   "execution_count": 164,
   "metadata": {},
   "outputs": [
    {
     "name": "stdout",
     "output_type": "stream",
     "text": [
      "0    972781\n",
      "1     12481\n",
      "Name: Class, dtype: int64\n"
     ]
    }
   ],
   "source": [
    "count_classes = pd.value_counts(kddCupTrain['Class'], sort = True)\n",
    "print(count_classes)"
   ]
  },
  {
   "cell_type": "code",
   "execution_count": 165,
   "metadata": {},
   "outputs": [],
   "source": [
    "summary = kddCupTrain.describe(percentiles=[])"
   ]
  },
  {
   "cell_type": "code",
   "execution_count": 166,
   "metadata": {},
   "outputs": [
    {
     "data": {
      "text/html": [
       "<div>\n",
       "<style scoped>\n",
       "    .dataframe tbody tr th:only-of-type {\n",
       "        vertical-align: middle;\n",
       "    }\n",
       "\n",
       "    .dataframe tbody tr th {\n",
       "        vertical-align: top;\n",
       "    }\n",
       "\n",
       "    .dataframe thead th {\n",
       "        text-align: right;\n",
       "    }\n",
       "</style>\n",
       "<table border=\"1\" class=\"dataframe\">\n",
       "  <thead>\n",
       "    <tr style=\"text-align: right;\">\n",
       "      <th></th>\n",
       "      <th>0</th>\n",
       "      <th>4</th>\n",
       "      <th>5</th>\n",
       "      <th>6</th>\n",
       "      <th>7</th>\n",
       "      <th>8</th>\n",
       "      <th>9</th>\n",
       "      <th>10</th>\n",
       "      <th>11</th>\n",
       "      <th>12</th>\n",
       "      <th>...</th>\n",
       "      <th>32</th>\n",
       "      <th>33</th>\n",
       "      <th>34</th>\n",
       "      <th>35</th>\n",
       "      <th>36</th>\n",
       "      <th>37</th>\n",
       "      <th>38</th>\n",
       "      <th>39</th>\n",
       "      <th>40</th>\n",
       "      <th>Class</th>\n",
       "    </tr>\n",
       "  </thead>\n",
       "  <tbody>\n",
       "    <tr>\n",
       "      <th>count</th>\n",
       "      <td>985262.000000</td>\n",
       "      <td>9.852620e+05</td>\n",
       "      <td>9.852620e+05</td>\n",
       "      <td>985262.000000</td>\n",
       "      <td>985262.0</td>\n",
       "      <td>985262.000000</td>\n",
       "      <td>985262.000000</td>\n",
       "      <td>985262.000000</td>\n",
       "      <td>985262.000000</td>\n",
       "      <td>985262.000000</td>\n",
       "      <td>...</td>\n",
       "      <td>985262.000000</td>\n",
       "      <td>985262.000000</td>\n",
       "      <td>985262.000000</td>\n",
       "      <td>985262.000000</td>\n",
       "      <td>985262.000000</td>\n",
       "      <td>985262.000000</td>\n",
       "      <td>985262.000000</td>\n",
       "      <td>985262.000000</td>\n",
       "      <td>985262.000000</td>\n",
       "      <td>985262.000000</td>\n",
       "    </tr>\n",
       "    <tr>\n",
       "      <th>mean</th>\n",
       "      <td>215.078631</td>\n",
       "      <td>1.459258e+03</td>\n",
       "      <td>3.193730e+03</td>\n",
       "      <td>0.000007</td>\n",
       "      <td>0.0</td>\n",
       "      <td>0.000036</td>\n",
       "      <td>0.048908</td>\n",
       "      <td>0.000097</td>\n",
       "      <td>0.710185</td>\n",
       "      <td>0.037907</td>\n",
       "      <td>...</td>\n",
       "      <td>201.430712</td>\n",
       "      <td>0.845963</td>\n",
       "      <td>0.056712</td>\n",
       "      <td>0.145018</td>\n",
       "      <td>0.031659</td>\n",
       "      <td>0.002014</td>\n",
       "      <td>0.001037</td>\n",
       "      <td>0.057911</td>\n",
       "      <td>0.056161</td>\n",
       "      <td>0.012668</td>\n",
       "    </tr>\n",
       "    <tr>\n",
       "      <th>std</th>\n",
       "      <td>1343.633640</td>\n",
       "      <td>1.097984e+05</td>\n",
       "      <td>3.401613e+04</td>\n",
       "      <td>0.002665</td>\n",
       "      <td>0.0</td>\n",
       "      <td>0.015897</td>\n",
       "      <td>0.926008</td>\n",
       "      <td>0.013058</td>\n",
       "      <td>0.453677</td>\n",
       "      <td>8.598590</td>\n",
       "      <td>...</td>\n",
       "      <td>87.382719</td>\n",
       "      <td>0.304934</td>\n",
       "      <td>0.181323</td>\n",
       "      <td>0.295592</td>\n",
       "      <td>0.086754</td>\n",
       "      <td>0.028357</td>\n",
       "      <td>0.015326</td>\n",
       "      <td>0.225341</td>\n",
       "      <td>0.219637</td>\n",
       "      <td>0.111836</td>\n",
       "    </tr>\n",
       "    <tr>\n",
       "      <th>min</th>\n",
       "      <td>0.000000</td>\n",
       "      <td>0.000000e+00</td>\n",
       "      <td>0.000000e+00</td>\n",
       "      <td>0.000000</td>\n",
       "      <td>0.0</td>\n",
       "      <td>0.000000</td>\n",
       "      <td>0.000000</td>\n",
       "      <td>0.000000</td>\n",
       "      <td>0.000000</td>\n",
       "      <td>0.000000</td>\n",
       "      <td>...</td>\n",
       "      <td>0.000000</td>\n",
       "      <td>0.000000</td>\n",
       "      <td>0.000000</td>\n",
       "      <td>0.000000</td>\n",
       "      <td>0.000000</td>\n",
       "      <td>0.000000</td>\n",
       "      <td>0.000000</td>\n",
       "      <td>0.000000</td>\n",
       "      <td>0.000000</td>\n",
       "      <td>0.000000</td>\n",
       "    </tr>\n",
       "    <tr>\n",
       "      <th>50%</th>\n",
       "      <td>0.000000</td>\n",
       "      <td>2.300000e+02</td>\n",
       "      <td>4.060000e+02</td>\n",
       "      <td>0.000000</td>\n",
       "      <td>0.0</td>\n",
       "      <td>0.000000</td>\n",
       "      <td>0.000000</td>\n",
       "      <td>0.000000</td>\n",
       "      <td>1.000000</td>\n",
       "      <td>0.000000</td>\n",
       "      <td>...</td>\n",
       "      <td>255.000000</td>\n",
       "      <td>1.000000</td>\n",
       "      <td>0.000000</td>\n",
       "      <td>0.010000</td>\n",
       "      <td>0.010000</td>\n",
       "      <td>0.000000</td>\n",
       "      <td>0.000000</td>\n",
       "      <td>0.000000</td>\n",
       "      <td>0.000000</td>\n",
       "      <td>0.000000</td>\n",
       "    </tr>\n",
       "    <tr>\n",
       "      <th>max</th>\n",
       "      <td>58329.000000</td>\n",
       "      <td>8.958152e+07</td>\n",
       "      <td>1.173059e+07</td>\n",
       "      <td>1.000000</td>\n",
       "      <td>0.0</td>\n",
       "      <td>14.000000</td>\n",
       "      <td>77.000000</td>\n",
       "      <td>4.000000</td>\n",
       "      <td>1.000000</td>\n",
       "      <td>7479.000000</td>\n",
       "      <td>...</td>\n",
       "      <td>255.000000</td>\n",
       "      <td>1.000000</td>\n",
       "      <td>1.000000</td>\n",
       "      <td>1.000000</td>\n",
       "      <td>1.000000</td>\n",
       "      <td>1.000000</td>\n",
       "      <td>1.000000</td>\n",
       "      <td>1.000000</td>\n",
       "      <td>1.000000</td>\n",
       "      <td>1.000000</td>\n",
       "    </tr>\n",
       "  </tbody>\n",
       "</table>\n",
       "<p>6 rows × 39 columns</p>\n",
       "</div>"
      ],
      "text/plain": [
       "                   0             4             5              6         7  \\\n",
       "count  985262.000000  9.852620e+05  9.852620e+05  985262.000000  985262.0   \n",
       "mean      215.078631  1.459258e+03  3.193730e+03       0.000007       0.0   \n",
       "std      1343.633640  1.097984e+05  3.401613e+04       0.002665       0.0   \n",
       "min         0.000000  0.000000e+00  0.000000e+00       0.000000       0.0   \n",
       "50%         0.000000  2.300000e+02  4.060000e+02       0.000000       0.0   \n",
       "max     58329.000000  8.958152e+07  1.173059e+07       1.000000       0.0   \n",
       "\n",
       "                   8              9             10             11  \\\n",
       "count  985262.000000  985262.000000  985262.000000  985262.000000   \n",
       "mean        0.000036       0.048908       0.000097       0.710185   \n",
       "std         0.015897       0.926008       0.013058       0.453677   \n",
       "min         0.000000       0.000000       0.000000       0.000000   \n",
       "50%         0.000000       0.000000       0.000000       1.000000   \n",
       "max        14.000000      77.000000       4.000000       1.000000   \n",
       "\n",
       "                  12      ...                   32             33  \\\n",
       "count  985262.000000      ...        985262.000000  985262.000000   \n",
       "mean        0.037907      ...           201.430712       0.845963   \n",
       "std         8.598590      ...            87.382719       0.304934   \n",
       "min         0.000000      ...             0.000000       0.000000   \n",
       "50%         0.000000      ...           255.000000       1.000000   \n",
       "max      7479.000000      ...           255.000000       1.000000   \n",
       "\n",
       "                  34             35             36             37  \\\n",
       "count  985262.000000  985262.000000  985262.000000  985262.000000   \n",
       "mean        0.056712       0.145018       0.031659       0.002014   \n",
       "std         0.181323       0.295592       0.086754       0.028357   \n",
       "min         0.000000       0.000000       0.000000       0.000000   \n",
       "50%         0.000000       0.010000       0.010000       0.000000   \n",
       "max         1.000000       1.000000       1.000000       1.000000   \n",
       "\n",
       "                  38             39             40          Class  \n",
       "count  985262.000000  985262.000000  985262.000000  985262.000000  \n",
       "mean        0.001037       0.057911       0.056161       0.012668  \n",
       "std         0.015326       0.225341       0.219637       0.111836  \n",
       "min         0.000000       0.000000       0.000000       0.000000  \n",
       "50%         0.000000       0.000000       0.000000       0.000000  \n",
       "max         1.000000       1.000000       1.000000       1.000000  \n",
       "\n",
       "[6 rows x 39 columns]"
      ]
     },
     "execution_count": 166,
     "metadata": {},
     "output_type": "execute_result"
    }
   ],
   "source": [
    "summary"
   ]
  },
  {
   "cell_type": "code",
   "execution_count": 167,
   "metadata": {},
   "outputs": [],
   "source": [
    "columnlist = summary.columns[summary.iloc[2,:]==0]"
   ]
  },
  {
   "cell_type": "code",
   "execution_count": 168,
   "metadata": {},
   "outputs": [
    {
     "data": {
      "text/plain": [
       "Index([7, 19], dtype='object')"
      ]
     },
     "execution_count": 168,
     "metadata": {},
     "output_type": "execute_result"
    }
   ],
   "source": [
    "columnlist"
   ]
  },
  {
   "cell_type": "code",
   "execution_count": 169,
   "metadata": {},
   "outputs": [
    {
     "data": {
      "text/html": [
       "<div>\n",
       "<style scoped>\n",
       "    .dataframe tbody tr th:only-of-type {\n",
       "        vertical-align: middle;\n",
       "    }\n",
       "\n",
       "    .dataframe tbody tr th {\n",
       "        vertical-align: top;\n",
       "    }\n",
       "\n",
       "    .dataframe thead th {\n",
       "        text-align: right;\n",
       "    }\n",
       "</style>\n",
       "<table border=\"1\" class=\"dataframe\">\n",
       "  <thead>\n",
       "    <tr style=\"text-align: right;\">\n",
       "      <th></th>\n",
       "      <th>0</th>\n",
       "      <th>1</th>\n",
       "      <th>2</th>\n",
       "      <th>3</th>\n",
       "      <th>4</th>\n",
       "      <th>5</th>\n",
       "      <th>6</th>\n",
       "      <th>7</th>\n",
       "      <th>8</th>\n",
       "      <th>9</th>\n",
       "      <th>...</th>\n",
       "      <th>32</th>\n",
       "      <th>33</th>\n",
       "      <th>34</th>\n",
       "      <th>35</th>\n",
       "      <th>36</th>\n",
       "      <th>37</th>\n",
       "      <th>38</th>\n",
       "      <th>39</th>\n",
       "      <th>40</th>\n",
       "      <th>Class</th>\n",
       "    </tr>\n",
       "  </thead>\n",
       "  <tbody>\n",
       "    <tr>\n",
       "      <th>0</th>\n",
       "      <td>0</td>\n",
       "      <td>tcp</td>\n",
       "      <td>http</td>\n",
       "      <td>SF</td>\n",
       "      <td>215</td>\n",
       "      <td>45076</td>\n",
       "      <td>0</td>\n",
       "      <td>0</td>\n",
       "      <td>0</td>\n",
       "      <td>0</td>\n",
       "      <td>...</td>\n",
       "      <td>0</td>\n",
       "      <td>0.0</td>\n",
       "      <td>0.0</td>\n",
       "      <td>0.00</td>\n",
       "      <td>0.0</td>\n",
       "      <td>0.0</td>\n",
       "      <td>0.0</td>\n",
       "      <td>0.0</td>\n",
       "      <td>0.0</td>\n",
       "      <td>0</td>\n",
       "    </tr>\n",
       "    <tr>\n",
       "      <th>1</th>\n",
       "      <td>0</td>\n",
       "      <td>tcp</td>\n",
       "      <td>http</td>\n",
       "      <td>SF</td>\n",
       "      <td>162</td>\n",
       "      <td>4528</td>\n",
       "      <td>0</td>\n",
       "      <td>0</td>\n",
       "      <td>0</td>\n",
       "      <td>0</td>\n",
       "      <td>...</td>\n",
       "      <td>1</td>\n",
       "      <td>1.0</td>\n",
       "      <td>0.0</td>\n",
       "      <td>1.00</td>\n",
       "      <td>0.0</td>\n",
       "      <td>0.0</td>\n",
       "      <td>0.0</td>\n",
       "      <td>0.0</td>\n",
       "      <td>0.0</td>\n",
       "      <td>0</td>\n",
       "    </tr>\n",
       "    <tr>\n",
       "      <th>2</th>\n",
       "      <td>0</td>\n",
       "      <td>tcp</td>\n",
       "      <td>http</td>\n",
       "      <td>SF</td>\n",
       "      <td>236</td>\n",
       "      <td>1228</td>\n",
       "      <td>0</td>\n",
       "      <td>0</td>\n",
       "      <td>0</td>\n",
       "      <td>0</td>\n",
       "      <td>...</td>\n",
       "      <td>2</td>\n",
       "      <td>1.0</td>\n",
       "      <td>0.0</td>\n",
       "      <td>0.50</td>\n",
       "      <td>0.0</td>\n",
       "      <td>0.0</td>\n",
       "      <td>0.0</td>\n",
       "      <td>0.0</td>\n",
       "      <td>0.0</td>\n",
       "      <td>0</td>\n",
       "    </tr>\n",
       "    <tr>\n",
       "      <th>3</th>\n",
       "      <td>0</td>\n",
       "      <td>tcp</td>\n",
       "      <td>http</td>\n",
       "      <td>SF</td>\n",
       "      <td>233</td>\n",
       "      <td>2032</td>\n",
       "      <td>0</td>\n",
       "      <td>0</td>\n",
       "      <td>0</td>\n",
       "      <td>0</td>\n",
       "      <td>...</td>\n",
       "      <td>3</td>\n",
       "      <td>1.0</td>\n",
       "      <td>0.0</td>\n",
       "      <td>0.33</td>\n",
       "      <td>0.0</td>\n",
       "      <td>0.0</td>\n",
       "      <td>0.0</td>\n",
       "      <td>0.0</td>\n",
       "      <td>0.0</td>\n",
       "      <td>0</td>\n",
       "    </tr>\n",
       "    <tr>\n",
       "      <th>4</th>\n",
       "      <td>0</td>\n",
       "      <td>tcp</td>\n",
       "      <td>http</td>\n",
       "      <td>SF</td>\n",
       "      <td>239</td>\n",
       "      <td>486</td>\n",
       "      <td>0</td>\n",
       "      <td>0</td>\n",
       "      <td>0</td>\n",
       "      <td>0</td>\n",
       "      <td>...</td>\n",
       "      <td>4</td>\n",
       "      <td>1.0</td>\n",
       "      <td>0.0</td>\n",
       "      <td>0.25</td>\n",
       "      <td>0.0</td>\n",
       "      <td>0.0</td>\n",
       "      <td>0.0</td>\n",
       "      <td>0.0</td>\n",
       "      <td>0.0</td>\n",
       "      <td>0</td>\n",
       "    </tr>\n",
       "  </tbody>\n",
       "</table>\n",
       "<p>5 rows × 42 columns</p>\n",
       "</div>"
      ],
      "text/plain": [
       "   0    1     2   3    4      5  6  7  8  9  ...    32   33   34    35   36  \\\n",
       "0  0  tcp  http  SF  215  45076  0  0  0  0  ...     0  0.0  0.0  0.00  0.0   \n",
       "1  0  tcp  http  SF  162   4528  0  0  0  0  ...     1  1.0  0.0  1.00  0.0   \n",
       "2  0  tcp  http  SF  236   1228  0  0  0  0  ...     2  1.0  0.0  0.50  0.0   \n",
       "3  0  tcp  http  SF  233   2032  0  0  0  0  ...     3  1.0  0.0  0.33  0.0   \n",
       "4  0  tcp  http  SF  239    486  0  0  0  0  ...     4  1.0  0.0  0.25  0.0   \n",
       "\n",
       "    37   38   39   40  Class  \n",
       "0  0.0  0.0  0.0  0.0      0  \n",
       "1  0.0  0.0  0.0  0.0      0  \n",
       "2  0.0  0.0  0.0  0.0      0  \n",
       "3  0.0  0.0  0.0  0.0      0  \n",
       "4  0.0  0.0  0.0  0.0      0  \n",
       "\n",
       "[5 rows x 42 columns]"
      ]
     },
     "execution_count": 169,
     "metadata": {},
     "output_type": "execute_result"
    }
   ],
   "source": [
    "kddCupTrain.head()"
   ]
  },
  {
   "cell_type": "code",
   "execution_count": 170,
   "metadata": {},
   "outputs": [],
   "source": [
    "kddCupTrain.drop(columnlist, axis=1, inplace=True)"
   ]
  },
  {
   "cell_type": "code",
   "execution_count": 171,
   "metadata": {},
   "outputs": [
    {
     "data": {
      "text/plain": [
       "Index([      0,       1,       2,       3,       4,       5,       6,       8,\n",
       "             9,      10,      11,      12,      13,      14,      15,      16,\n",
       "            17,      18,      20,      21,      22,      23,      24,      25,\n",
       "            26,      27,      28,      29,      30,      31,      32,      33,\n",
       "            34,      35,      36,      37,      38,      39,      40, 'Class'],\n",
       "      dtype='object')"
      ]
     },
     "execution_count": 171,
     "metadata": {},
     "output_type": "execute_result"
    }
   ],
   "source": [
    "kddCupTrain.columns"
   ]
  },
  {
   "cell_type": "code",
   "execution_count": 172,
   "metadata": {},
   "outputs": [],
   "source": [
    "kddCupTrain = pd.get_dummies(kddCupTrain, ['1','2', '3'])"
   ]
  },
  {
   "cell_type": "code",
   "execution_count": 173,
   "metadata": {},
   "outputs": [
    {
     "data": {
      "text/plain": [
       "(985262, 84)"
      ]
     },
     "execution_count": 173,
     "metadata": {},
     "output_type": "execute_result"
    }
   ],
   "source": [
    "kddCupTrain.shape"
   ]
  },
  {
   "cell_type": "code",
   "execution_count": 174,
   "metadata": {},
   "outputs": [
    {
     "name": "stdout",
     "output_type": "stream",
     "text": [
      "featuresList:  [0, 4, 5, 6, 8, 9, 10, 11, 12, 13, 14, 15, 16, 17, 18, 20, 21, 22, 23, 24, 25, 26, 27, 28, 29, 30, 31, 32, 33, 34, 35, 36, 37, 38, 39, 40, '1_icmp', '1_tcp', '1_udp', '2_IRC', '2_X11', '2_auth', '2_ctf', '2_domain', '2_domain_u', '2_eco_i', '2_ecr_i', '2_finger', '2_ftp', '2_ftp_data', '2_gopher', '2_http', '2_imap4', '2_link', '2_mtp', '2_name', '2_ntp_u', '2_other', '2_pop_3', '2_private', '2_red_i', '2_remote_job', '2_rje', '2_shell', '2_smtp', '2_ssh', '2_telnet', '2_tftp_u', '2_tim_i', '2_time', '2_urh_i', '2_urp_i', '2_whois', '3_OTH', '3_REJ', '3_RSTO', '3_RSTR', '3_S0', '3_S1', '3_S2', '3_S3', '3_SF', '3_SH']\n",
      "\n",
      "Toy sample: \n",
      "\n"
     ]
    },
    {
     "data": {
      "text/html": [
       "<div>\n",
       "<style scoped>\n",
       "    .dataframe tbody tr th:only-of-type {\n",
       "        vertical-align: middle;\n",
       "    }\n",
       "\n",
       "    .dataframe tbody tr th {\n",
       "        vertical-align: top;\n",
       "    }\n",
       "\n",
       "    .dataframe thead th {\n",
       "        text-align: right;\n",
       "    }\n",
       "</style>\n",
       "<table border=\"1\" class=\"dataframe\">\n",
       "  <thead>\n",
       "    <tr style=\"text-align: right;\">\n",
       "      <th></th>\n",
       "      <th>0</th>\n",
       "      <th>4</th>\n",
       "      <th>5</th>\n",
       "      <th>6</th>\n",
       "      <th>8</th>\n",
       "      <th>9</th>\n",
       "      <th>10</th>\n",
       "      <th>11</th>\n",
       "      <th>12</th>\n",
       "      <th>13</th>\n",
       "      <th>...</th>\n",
       "      <th>3_REJ</th>\n",
       "      <th>3_RSTO</th>\n",
       "      <th>3_RSTR</th>\n",
       "      <th>3_S0</th>\n",
       "      <th>3_S1</th>\n",
       "      <th>3_S2</th>\n",
       "      <th>3_S3</th>\n",
       "      <th>3_SF</th>\n",
       "      <th>3_SH</th>\n",
       "      <th>Class</th>\n",
       "    </tr>\n",
       "  </thead>\n",
       "  <tbody>\n",
       "    <tr>\n",
       "      <th>0</th>\n",
       "      <td>0</td>\n",
       "      <td>215</td>\n",
       "      <td>45076</td>\n",
       "      <td>0</td>\n",
       "      <td>0</td>\n",
       "      <td>0</td>\n",
       "      <td>0</td>\n",
       "      <td>1</td>\n",
       "      <td>0</td>\n",
       "      <td>0</td>\n",
       "      <td>...</td>\n",
       "      <td>0</td>\n",
       "      <td>0</td>\n",
       "      <td>0</td>\n",
       "      <td>0</td>\n",
       "      <td>0</td>\n",
       "      <td>0</td>\n",
       "      <td>0</td>\n",
       "      <td>1</td>\n",
       "      <td>0</td>\n",
       "      <td>0</td>\n",
       "    </tr>\n",
       "    <tr>\n",
       "      <th>1</th>\n",
       "      <td>0</td>\n",
       "      <td>162</td>\n",
       "      <td>4528</td>\n",
       "      <td>0</td>\n",
       "      <td>0</td>\n",
       "      <td>0</td>\n",
       "      <td>0</td>\n",
       "      <td>1</td>\n",
       "      <td>0</td>\n",
       "      <td>0</td>\n",
       "      <td>...</td>\n",
       "      <td>0</td>\n",
       "      <td>0</td>\n",
       "      <td>0</td>\n",
       "      <td>0</td>\n",
       "      <td>0</td>\n",
       "      <td>0</td>\n",
       "      <td>0</td>\n",
       "      <td>1</td>\n",
       "      <td>0</td>\n",
       "      <td>0</td>\n",
       "    </tr>\n",
       "    <tr>\n",
       "      <th>2</th>\n",
       "      <td>0</td>\n",
       "      <td>236</td>\n",
       "      <td>1228</td>\n",
       "      <td>0</td>\n",
       "      <td>0</td>\n",
       "      <td>0</td>\n",
       "      <td>0</td>\n",
       "      <td>1</td>\n",
       "      <td>0</td>\n",
       "      <td>0</td>\n",
       "      <td>...</td>\n",
       "      <td>0</td>\n",
       "      <td>0</td>\n",
       "      <td>0</td>\n",
       "      <td>0</td>\n",
       "      <td>0</td>\n",
       "      <td>0</td>\n",
       "      <td>0</td>\n",
       "      <td>1</td>\n",
       "      <td>0</td>\n",
       "      <td>0</td>\n",
       "    </tr>\n",
       "    <tr>\n",
       "      <th>3</th>\n",
       "      <td>0</td>\n",
       "      <td>233</td>\n",
       "      <td>2032</td>\n",
       "      <td>0</td>\n",
       "      <td>0</td>\n",
       "      <td>0</td>\n",
       "      <td>0</td>\n",
       "      <td>1</td>\n",
       "      <td>0</td>\n",
       "      <td>0</td>\n",
       "      <td>...</td>\n",
       "      <td>0</td>\n",
       "      <td>0</td>\n",
       "      <td>0</td>\n",
       "      <td>0</td>\n",
       "      <td>0</td>\n",
       "      <td>0</td>\n",
       "      <td>0</td>\n",
       "      <td>1</td>\n",
       "      <td>0</td>\n",
       "      <td>0</td>\n",
       "    </tr>\n",
       "    <tr>\n",
       "      <th>4</th>\n",
       "      <td>0</td>\n",
       "      <td>239</td>\n",
       "      <td>486</td>\n",
       "      <td>0</td>\n",
       "      <td>0</td>\n",
       "      <td>0</td>\n",
       "      <td>0</td>\n",
       "      <td>1</td>\n",
       "      <td>0</td>\n",
       "      <td>0</td>\n",
       "      <td>...</td>\n",
       "      <td>0</td>\n",
       "      <td>0</td>\n",
       "      <td>0</td>\n",
       "      <td>0</td>\n",
       "      <td>0</td>\n",
       "      <td>0</td>\n",
       "      <td>0</td>\n",
       "      <td>1</td>\n",
       "      <td>0</td>\n",
       "      <td>0</td>\n",
       "    </tr>\n",
       "  </tbody>\n",
       "</table>\n",
       "<p>5 rows × 84 columns</p>\n",
       "</div>"
      ],
      "text/plain": [
       "   0    4      5  6  8  9  10  11  12  13  ...    3_REJ  3_RSTO  3_RSTR  3_S0  \\\n",
       "0  0  215  45076  0  0  0   0   1   0   0  ...        0       0       0     0   \n",
       "1  0  162   4528  0  0  0   0   1   0   0  ...        0       0       0     0   \n",
       "2  0  236   1228  0  0  0   0   1   0   0  ...        0       0       0     0   \n",
       "3  0  233   2032  0  0  0   0   1   0   0  ...        0       0       0     0   \n",
       "4  0  239    486  0  0  0   0   1   0   0  ...        0       0       0     0   \n",
       "\n",
       "   3_S1  3_S2  3_S3  3_SF  3_SH  Class  \n",
       "0     0     0     0     1     0      0  \n",
       "1     0     0     0     1     0      0  \n",
       "2     0     0     0     1     0      0  \n",
       "3     0     0     0     1     0      0  \n",
       "4     0     0     0     1     0      0  \n",
       "\n",
       "[5 rows x 84 columns]"
      ]
     },
     "execution_count": 174,
     "metadata": {},
     "output_type": "execute_result"
    }
   ],
   "source": [
    "featuresList = [col for col in kddCupTrain if col != 'Class']\n",
    "print('featuresList: ',featuresList)\n",
    "kddCupTrain = kddCupTrain[featuresList + ['Class']]\n",
    "print('\\nToy sample: \\n')\n",
    "kddCupTrain.head()"
   ]
  },
  {
   "cell_type": "code",
   "execution_count": 281,
   "metadata": {},
   "outputs": [],
   "source": [
    "featuresList = [x for x in featuresList if x!='2_tftp_u']\n",
    "featuresList = [x for x in featuresList if x!='3_SH']"
   ]
  },
  {
   "cell_type": "code",
   "execution_count": 279,
   "metadata": {},
   "outputs": [
    {
     "data": {
      "text/html": [
       "<div>\n",
       "<style scoped>\n",
       "    .dataframe tbody tr th:only-of-type {\n",
       "        vertical-align: middle;\n",
       "    }\n",
       "\n",
       "    .dataframe tbody tr th {\n",
       "        vertical-align: top;\n",
       "    }\n",
       "\n",
       "    .dataframe thead th {\n",
       "        text-align: right;\n",
       "    }\n",
       "</style>\n",
       "<table border=\"1\" class=\"dataframe\">\n",
       "  <thead>\n",
       "    <tr style=\"text-align: right;\">\n",
       "      <th></th>\n",
       "      <th>0</th>\n",
       "      <th>4</th>\n",
       "      <th>5</th>\n",
       "      <th>6</th>\n",
       "      <th>8</th>\n",
       "      <th>9</th>\n",
       "      <th>10</th>\n",
       "      <th>11</th>\n",
       "      <th>12</th>\n",
       "      <th>13</th>\n",
       "      <th>...</th>\n",
       "      <th>3_REJ</th>\n",
       "      <th>3_RSTO</th>\n",
       "      <th>3_RSTR</th>\n",
       "      <th>3_S0</th>\n",
       "      <th>3_S1</th>\n",
       "      <th>3_S2</th>\n",
       "      <th>3_S3</th>\n",
       "      <th>3_SF</th>\n",
       "      <th>3_SH</th>\n",
       "      <th>Class</th>\n",
       "    </tr>\n",
       "  </thead>\n",
       "  <tbody>\n",
       "    <tr>\n",
       "      <th>0</th>\n",
       "      <td>-0.160072</td>\n",
       "      <td>-0.011332</td>\n",
       "      <td>1.231248</td>\n",
       "      <td>-0.002665</td>\n",
       "      <td>-0.002235</td>\n",
       "      <td>-0.052816</td>\n",
       "      <td>-0.007462</td>\n",
       "      <td>0.638815</td>\n",
       "      <td>-0.004408</td>\n",
       "      <td>-0.01751</td>\n",
       "      <td>...</td>\n",
       "      <td>-0.2415</td>\n",
       "      <td>-0.025415</td>\n",
       "      <td>-0.018415</td>\n",
       "      <td>-0.020749</td>\n",
       "      <td>-0.023156</td>\n",
       "      <td>-0.012462</td>\n",
       "      <td>-0.006833</td>\n",
       "      <td>0.246487</td>\n",
       "      <td>0</td>\n",
       "      <td>0</td>\n",
       "    </tr>\n",
       "    <tr>\n",
       "      <th>1</th>\n",
       "      <td>-0.160072</td>\n",
       "      <td>-0.011815</td>\n",
       "      <td>0.039225</td>\n",
       "      <td>-0.002665</td>\n",
       "      <td>-0.002235</td>\n",
       "      <td>-0.052816</td>\n",
       "      <td>-0.007462</td>\n",
       "      <td>0.638815</td>\n",
       "      <td>-0.004408</td>\n",
       "      <td>-0.01751</td>\n",
       "      <td>...</td>\n",
       "      <td>-0.2415</td>\n",
       "      <td>-0.025415</td>\n",
       "      <td>-0.018415</td>\n",
       "      <td>-0.020749</td>\n",
       "      <td>-0.023156</td>\n",
       "      <td>-0.012462</td>\n",
       "      <td>-0.006833</td>\n",
       "      <td>0.246487</td>\n",
       "      <td>0</td>\n",
       "      <td>0</td>\n",
       "    </tr>\n",
       "    <tr>\n",
       "      <th>2</th>\n",
       "      <td>-0.160072</td>\n",
       "      <td>-0.011141</td>\n",
       "      <td>-0.057788</td>\n",
       "      <td>-0.002665</td>\n",
       "      <td>-0.002235</td>\n",
       "      <td>-0.052816</td>\n",
       "      <td>-0.007462</td>\n",
       "      <td>0.638815</td>\n",
       "      <td>-0.004408</td>\n",
       "      <td>-0.01751</td>\n",
       "      <td>...</td>\n",
       "      <td>-0.2415</td>\n",
       "      <td>-0.025415</td>\n",
       "      <td>-0.018415</td>\n",
       "      <td>-0.020749</td>\n",
       "      <td>-0.023156</td>\n",
       "      <td>-0.012462</td>\n",
       "      <td>-0.006833</td>\n",
       "      <td>0.246487</td>\n",
       "      <td>0</td>\n",
       "      <td>0</td>\n",
       "    </tr>\n",
       "    <tr>\n",
       "      <th>3</th>\n",
       "      <td>-0.160072</td>\n",
       "      <td>-0.011168</td>\n",
       "      <td>-0.034152</td>\n",
       "      <td>-0.002665</td>\n",
       "      <td>-0.002235</td>\n",
       "      <td>-0.052816</td>\n",
       "      <td>-0.007462</td>\n",
       "      <td>0.638815</td>\n",
       "      <td>-0.004408</td>\n",
       "      <td>-0.01751</td>\n",
       "      <td>...</td>\n",
       "      <td>-0.2415</td>\n",
       "      <td>-0.025415</td>\n",
       "      <td>-0.018415</td>\n",
       "      <td>-0.020749</td>\n",
       "      <td>-0.023156</td>\n",
       "      <td>-0.012462</td>\n",
       "      <td>-0.006833</td>\n",
       "      <td>0.246487</td>\n",
       "      <td>0</td>\n",
       "      <td>0</td>\n",
       "    </tr>\n",
       "    <tr>\n",
       "      <th>4</th>\n",
       "      <td>-0.160072</td>\n",
       "      <td>-0.011114</td>\n",
       "      <td>-0.079601</td>\n",
       "      <td>-0.002665</td>\n",
       "      <td>-0.002235</td>\n",
       "      <td>-0.052816</td>\n",
       "      <td>-0.007462</td>\n",
       "      <td>0.638815</td>\n",
       "      <td>-0.004408</td>\n",
       "      <td>-0.01751</td>\n",
       "      <td>...</td>\n",
       "      <td>-0.2415</td>\n",
       "      <td>-0.025415</td>\n",
       "      <td>-0.018415</td>\n",
       "      <td>-0.020749</td>\n",
       "      <td>-0.023156</td>\n",
       "      <td>-0.012462</td>\n",
       "      <td>-0.006833</td>\n",
       "      <td>0.246487</td>\n",
       "      <td>0</td>\n",
       "      <td>0</td>\n",
       "    </tr>\n",
       "  </tbody>\n",
       "</table>\n",
       "<p>5 rows × 84 columns</p>\n",
       "</div>"
      ],
      "text/plain": [
       "          0         4         5         6         8         9        10  \\\n",
       "0 -0.160072 -0.011332  1.231248 -0.002665 -0.002235 -0.052816 -0.007462   \n",
       "1 -0.160072 -0.011815  0.039225 -0.002665 -0.002235 -0.052816 -0.007462   \n",
       "2 -0.160072 -0.011141 -0.057788 -0.002665 -0.002235 -0.052816 -0.007462   \n",
       "3 -0.160072 -0.011168 -0.034152 -0.002665 -0.002235 -0.052816 -0.007462   \n",
       "4 -0.160072 -0.011114 -0.079601 -0.002665 -0.002235 -0.052816 -0.007462   \n",
       "\n",
       "         11        12       13  ...     3_REJ    3_RSTO    3_RSTR      3_S0  \\\n",
       "0  0.638815 -0.004408 -0.01751  ...   -0.2415 -0.025415 -0.018415 -0.020749   \n",
       "1  0.638815 -0.004408 -0.01751  ...   -0.2415 -0.025415 -0.018415 -0.020749   \n",
       "2  0.638815 -0.004408 -0.01751  ...   -0.2415 -0.025415 -0.018415 -0.020749   \n",
       "3  0.638815 -0.004408 -0.01751  ...   -0.2415 -0.025415 -0.018415 -0.020749   \n",
       "4  0.638815 -0.004408 -0.01751  ...   -0.2415 -0.025415 -0.018415 -0.020749   \n",
       "\n",
       "       3_S1      3_S2      3_S3      3_SF  3_SH  Class  \n",
       "0 -0.023156 -0.012462 -0.006833  0.246487     0      0  \n",
       "1 -0.023156 -0.012462 -0.006833  0.246487     0      0  \n",
       "2 -0.023156 -0.012462 -0.006833  0.246487     0      0  \n",
       "3 -0.023156 -0.012462 -0.006833  0.246487     0      0  \n",
       "4 -0.023156 -0.012462 -0.006833  0.246487     0      0  \n",
       "\n",
       "[5 rows x 84 columns]"
      ]
     },
     "execution_count": 279,
     "metadata": {},
     "output_type": "execute_result"
    }
   ],
   "source": [
    "scaler = preprocessing.StandardScaler()\n",
    "scaler.fit(kddCupTrain[featuresList]);\n",
    "\n",
    "kddCupTrain[featuresList] = scaler.transform(kddCupTrain[featuresList])\n",
    "kddCupTrain.head()"
   ]
  },
  {
   "cell_type": "code",
   "execution_count": 287,
   "metadata": {},
   "outputs": [
    {
     "data": {
      "text/plain": [
       "(985262, 82)"
      ]
     },
     "execution_count": 287,
     "metadata": {},
     "output_type": "execute_result"
    }
   ],
   "source": [
    "kddCupTrain=kddCupTrain.drop(['2_tftp_u', '3_SH'],axis=1)\n",
    "kddCupTrain.shape"
   ]
  },
  {
   "cell_type": "code",
   "execution_count": 321,
   "metadata": {},
   "outputs": [],
   "source": [
    "#print('Mean values:')\n",
    "#print(kddCupTrain[featuresList].mean())\n",
    "#print('\\nStd values:')\n",
    "#print(kddCupTrain[featuresList].std(ddof=0))"
   ]
  },
  {
   "cell_type": "code",
   "execution_count": 73,
   "metadata": {},
   "outputs": [],
   "source": [
    "import pandas as pd\n",
    "from pandas.plotting import scatter_matrix\n",
    "import numpy as np\n",
    "import pickle\n",
    "import matplotlib.pyplot as plt\n",
    "from scipy import stats\n",
    "import tensorflow as tf\n",
    "import seaborn as sns\n",
    "from pylab import rcParams\n",
    "from sklearn.model_selection import train_test_split\n",
    "from sklearn.linear_model import LogisticRegression\n",
    "from sklearn.metrics import mean_squared_error\n",
    "import h5py\n",
    "from keras.models import Model, load_model\n",
    "from keras.layers import Input, Dense, Dropout, BatchNormalization\n",
    "from keras.callbacks import ModelCheckpoint, EarlyStopping\n",
    "from keras import regularizers\n",
    "%matplotlib inline\n",
    "sns.set(style='whitegrid', palette='muted', font_scale=1.5)\n",
    "RANDOM_SEED = 42\n",
    "LABELS = [\"Normal\", \"Fraud\"]"
   ]
  },
  {
   "cell_type": "code",
   "execution_count": 288,
   "metadata": {},
   "outputs": [],
   "source": [
    "X_train_split, X_test_split = train_test_split(kddCupTrain, test_size=0.2,\n",
    "                                   stratify=kddCupTrain['Class'], \n",
    "                                   random_state=RANDOM_SEED)"
   ]
  },
  {
   "cell_type": "code",
   "execution_count": 289,
   "metadata": {},
   "outputs": [
    {
     "name": "stdout",
     "output_type": "stream",
     "text": [
      "Train: shape X (788209, 81) , shape Y (788209,)\n",
      "Test: shape X (197053, 81) , shape Y (197053,)\n"
     ]
    }
   ],
   "source": [
    "y_train = X_train_split['Class']\n",
    "X_train = X_train_split.drop(['Class'], axis=1)\n",
    "\n",
    "y_test = X_test_split['Class']\n",
    "X_test = X_test_split.drop(['Class'], axis=1)\n",
    "print('Train: shape X',X_train.shape,', shape Y',y_train.shape)\n",
    "print('Test: shape X',X_test.shape,', shape Y',y_test.shape)"
   ]
  },
  {
   "cell_type": "code",
   "execution_count": 290,
   "metadata": {},
   "outputs": [],
   "source": [
    "X_trainNorm = X_train[y_train == 0]\n",
    "X_trainNorm_val = X_trainNorm.values # Only values, axes labels removed. This is input for the Autoencoder\n",
    "X_testNorm_val = X_test[y_test == 0].values # The validation data"
   ]
  },
  {
   "cell_type": "code",
   "execution_count": 292,
   "metadata": {},
   "outputs": [
    {
     "data": {
      "text/plain": [
       "(778224, 81)"
      ]
     },
     "execution_count": 292,
     "metadata": {},
     "output_type": "execute_result"
    }
   ],
   "source": [
    "X_trainNorm.shape"
   ]
  },
  {
   "cell_type": "code",
   "execution_count": 293,
   "metadata": {},
   "outputs": [],
   "source": [
    "input_dim = X_trainNorm_val.shape[1]\n",
    "layer1_dim = 40\n",
    "layer3_dim = 20\n",
    "encoder_dim = 10"
   ]
  },
  {
   "cell_type": "code",
   "execution_count": 294,
   "metadata": {},
   "outputs": [
    {
     "name": "stdout",
     "output_type": "stream",
     "text": [
      "input_layer:  Tensor(\"input_24:0\", shape=(?, 81), dtype=float32)\n",
      "encoder1 Tensor(\"dense_138/Tanh:0\", shape=(?, 40), dtype=float32)\n",
      "encoder3 Tensor(\"dense_139/Relu:0\", shape=(?, 20), dtype=float32)\n",
      "encoder4 Tensor(\"dense_140/Relu:0\", shape=(?, 10), dtype=float32)\n",
      "decoder1 Tensor(\"dense_141/Relu:0\", shape=(?, 20), dtype=float32)\n",
      "decoder3 Tensor(\"dense_142/Tanh:0\", shape=(?, 40), dtype=float32)\n",
      "decoder4 Tensor(\"dense_143/BiasAdd:0\", shape=(?, 81), dtype=float32)\n"
     ]
    }
   ],
   "source": [
    "input_layer = Input(shape=(input_dim, ))\n",
    "\n",
    "dropout_rate = 0.0\n",
    "\n",
    "encoder1 = Dense(layer1_dim, activation=\"tanh\", \n",
    "                activity_regularizer=regularizers.l1(10e-5))(input_layer)\n",
    "dropout_layer1 = Dropout(rate=dropout_rate)(encoder1, training=True)\n",
    "norm_1 = BatchNormalization()(dropout_layer1)\n",
    "\n",
    "#encoder2 = Dense(layer2_dim, activation=\"relu\")(norm_1)\n",
    "#dropout_layer2 = Dropout(rate=dropout_rate)(encoder2, training=True)\n",
    "#norm_2 = BatchNormalization()(dropout_layer2)\n",
    "\n",
    "encoder3 = Dense(layer3_dim, activation=\"relu\")(norm_1)\n",
    "dropout_layer3 = Dropout(rate=dropout_rate)(encoder3, training=True)\n",
    "norm_3 = BatchNormalization()(dropout_layer3)\n",
    "\n",
    "encoder4 = Dense(encoder_dim, activation=\"relu\")(norm_3)\n",
    "dropout_layer4 = Dropout(rate=dropout_rate)(encoder4, training=True)\n",
    "norm_4 = BatchNormalization()(dropout_layer4)\n",
    "\n",
    "decoder1 = Dense(layer3_dim, activation='relu')(norm_4)\n",
    "dropout_layer5 = Dropout(rate=dropout_rate)(decoder1, training=True)\n",
    "norm_5 = BatchNormalization()(dropout_layer5)\n",
    "\n",
    "#decoder2 = Dense(layer2_dim, activation='relu')(norm_5)\n",
    "#dropout_layer6 = Dropout(rate=dropout_rate)(decoder2, training=True)\n",
    "#norm_6 = BatchNormalization()(dropout_layer6)\n",
    "\n",
    "decoder3 = Dense(layer1_dim, activation='tanh')(norm_4)\n",
    "dropout_layer7 = Dropout(rate=dropout_rate)(decoder3, training=True)\n",
    "norm_7 = BatchNormalization()(dropout_layer7)\n",
    "\n",
    "decoder4 = Dense(input_dim, activation='linear')(norm_7)\n",
    "\n",
    "print('input_layer: ',input_layer)\n",
    "print('encoder1',encoder1)\n",
    "#print('encoder2',encoder2)\n",
    "print('encoder3',encoder3)\n",
    "print('encoder4',encoder4)\n",
    "print('decoder1',decoder1)\n",
    "#print('decoder2',decoder2)\n",
    "print('decoder3',decoder3)\n",
    "print('decoder4',decoder4)"
   ]
  },
  {
   "cell_type": "code",
   "execution_count": 295,
   "metadata": {},
   "outputs": [
    {
     "name": "stdout",
     "output_type": "stream",
     "text": [
      "_________________________________________________________________\n",
      "Layer (type)                 Output Shape              Param #   \n",
      "=================================================================\n",
      "input_24 (InputLayer)        (None, 81)                0         \n",
      "_________________________________________________________________\n",
      "dense_138 (Dense)            (None, 40)                3280      \n",
      "_________________________________________________________________\n",
      "dropout_45 (Dropout)         (None, 40)                0         \n",
      "_________________________________________________________________\n",
      "batch_normalization_45 (Batc (None, 40)                160       \n",
      "_________________________________________________________________\n",
      "dense_139 (Dense)            (None, 20)                820       \n",
      "_________________________________________________________________\n",
      "dropout_46 (Dropout)         (None, 20)                0         \n",
      "_________________________________________________________________\n",
      "batch_normalization_46 (Batc (None, 20)                80        \n",
      "_________________________________________________________________\n",
      "dense_140 (Dense)            (None, 10)                210       \n",
      "_________________________________________________________________\n",
      "dropout_47 (Dropout)         (None, 10)                0         \n",
      "_________________________________________________________________\n",
      "batch_normalization_47 (Batc (None, 10)                40        \n",
      "_________________________________________________________________\n",
      "dense_142 (Dense)            (None, 40)                440       \n",
      "_________________________________________________________________\n",
      "dropout_49 (Dropout)         (None, 40)                0         \n",
      "_________________________________________________________________\n",
      "batch_normalization_49 (Batc (None, 40)                160       \n",
      "_________________________________________________________________\n",
      "dense_143 (Dense)            (None, 81)                3321      \n",
      "=================================================================\n",
      "Total params: 8,511\n",
      "Trainable params: 8,291\n",
      "Non-trainable params: 220\n",
      "_________________________________________________________________\n"
     ]
    }
   ],
   "source": [
    "autoencoder = Model(inputs=input_layer, outputs=decoder4)\n",
    "autoencoder.summary()"
   ]
  },
  {
   "cell_type": "code",
   "execution_count": 296,
   "metadata": {},
   "outputs": [
    {
     "name": "stdout",
     "output_type": "stream",
     "text": [
      "Train on 778224 samples, validate on 194557 samples\n",
      "Epoch 1/100\n",
      "778224/778224 [==============================] - 26s 33us/step - loss: 0.6182 - val_loss: 0.4104\n",
      "Epoch 2/100\n",
      "778224/778224 [==============================] - 22s 29us/step - loss: 0.4128 - val_loss: 0.3500\n",
      "Epoch 3/100\n",
      "778224/778224 [==============================] - 22s 28us/step - loss: 0.3743 - val_loss: 0.3261\n",
      "Epoch 4/100\n",
      "778224/778224 [==============================] - 22s 29us/step - loss: 0.3497 - val_loss: 0.3104\n",
      "Epoch 5/100\n",
      "778224/778224 [==============================] - 22s 28us/step - loss: 0.3585 - val_loss: 0.3126\n"
     ]
    }
   ],
   "source": [
    "nb_epoch = 100\n",
    "batch_size = 500\n",
    "\n",
    "autoencoder.compile(optimizer='adam', \n",
    "                    loss='mean_squared_error')\n",
    "\n",
    "checkpointer = ModelCheckpoint(filepath=\"autoencoder.h5\",\n",
    "                               verbose=0,\n",
    "                               save_best_only=True)\n",
    "earlystopping = EarlyStopping(monitor='val_loss', patience=1, verbose=0) # 'patience' number of not improving epochs\n",
    "history = autoencoder.fit(X_trainNorm_val, X_trainNorm_val,\n",
    "                    epochs=nb_epoch,\n",
    "                    batch_size=batch_size,\n",
    "                    shuffle=True,\n",
    "                    validation_data=(X_testNorm_val, X_testNorm_val),\n",
    "                    verbose=1,\n",
    "                    callbacks=[checkpointer, #tensorboard, \n",
    "                               earlystopping]).history"
   ]
  },
  {
   "cell_type": "code",
   "execution_count": 297,
   "metadata": {},
   "outputs": [],
   "source": [
    "autoencoder = load_model('autoencoder.h5')"
   ]
  },
  {
   "cell_type": "code",
   "execution_count": 298,
   "metadata": {},
   "outputs": [
    {
     "data": {
      "image/png": "[encoded data removed]",
      "text/plain": [
       "<Figure size 432x288 with 1 Axes>"
      ]
     },
     "metadata": {},
     "output_type": "display_data"
    }
   ],
   "source": [
    "plt.plot(history['loss'])\n",
    "plt.plot(history['val_loss'])\n",
    "plt.title('model loss')\n",
    "plt.ylabel('loss')\n",
    "plt.xlabel('epoch')\n",
    "plt.legend(['train', 'test'], loc='upper right');"
   ]
  },
  {
   "cell_type": "code",
   "execution_count": 299,
   "metadata": {},
   "outputs": [
    {
     "data": {
      "text/plain": [
       "((197053, 81), (197053, 81))"
      ]
     },
     "execution_count": 299,
     "metadata": {},
     "output_type": "execute_result"
    }
   ],
   "source": [
    "testPredictions = autoencoder.predict(X_test)\n",
    "X_test.shape,testPredictions.shape"
   ]
  },
  {
   "cell_type": "code",
   "execution_count": 300,
   "metadata": {},
   "outputs": [
    {
     "data": {
      "text/html": [
       "<div>\n",
       "<style scoped>\n",
       "    .dataframe tbody tr th:only-of-type {\n",
       "        vertical-align: middle;\n",
       "    }\n",
       "\n",
       "    .dataframe tbody tr th {\n",
       "        vertical-align: top;\n",
       "    }\n",
       "\n",
       "    .dataframe thead th {\n",
       "        text-align: right;\n",
       "    }\n",
       "</style>\n",
       "<table border=\"1\" class=\"dataframe\">\n",
       "  <thead>\n",
       "    <tr style=\"text-align: right;\">\n",
       "      <th></th>\n",
       "      <th>reconstruction_error</th>\n",
       "      <th>true_class</th>\n",
       "    </tr>\n",
       "  </thead>\n",
       "  <tbody>\n",
       "    <tr>\n",
       "      <th>940543</th>\n",
       "      <td>0.265859</td>\n",
       "      <td>1</td>\n",
       "    </tr>\n",
       "    <tr>\n",
       "      <th>356110</th>\n",
       "      <td>0.080431</td>\n",
       "      <td>0</td>\n",
       "    </tr>\n",
       "    <tr>\n",
       "      <th>540178</th>\n",
       "      <td>0.007250</td>\n",
       "      <td>0</td>\n",
       "    </tr>\n",
       "    <tr>\n",
       "      <th>672514</th>\n",
       "      <td>0.032117</td>\n",
       "      <td>0</td>\n",
       "    </tr>\n",
       "    <tr>\n",
       "      <th>244980</th>\n",
       "      <td>0.007097</td>\n",
       "      <td>0</td>\n",
       "    </tr>\n",
       "  </tbody>\n",
       "</table>\n",
       "</div>"
      ],
      "text/plain": [
       "        reconstruction_error  true_class\n",
       "940543              0.265859           1\n",
       "356110              0.080431           0\n",
       "540178              0.007250           0\n",
       "672514              0.032117           0\n",
       "244980              0.007097           0"
      ]
     },
     "execution_count": 300,
     "metadata": {},
     "output_type": "execute_result"
    }
   ],
   "source": [
    "testMSE = mean_squared_error(X_test.transpose(), testPredictions.transpose(),\n",
    "                              multioutput='raw_values')\n",
    "error_df = pd.DataFrame({'reconstruction_error': testMSE,'true_class': y_test})\n",
    "error_df.head()"
   ]
  },
  {
   "cell_type": "code",
   "execution_count": 301,
   "metadata": {},
   "outputs": [
    {
     "data": {
      "text/plain": [
       "count    197053.000000\n",
       "mean          0.375388\n",
       "std          27.198807\n",
       "min           0.005470\n",
       "25%           0.009618\n",
       "50%           0.023325\n",
       "75%           0.051715\n",
       "max        8757.355580\n",
       "Name: reconstruction_error, dtype: float64"
      ]
     },
     "execution_count": 301,
     "metadata": {},
     "output_type": "execute_result"
    }
   ],
   "source": [
    "error_df.reconstruction_error.describe()"
   ]
  },
  {
   "cell_type": "code",
   "execution_count": 302,
   "metadata": {},
   "outputs": [
    {
     "data": {
      "image/png": "[encoded data removed]",
      "text/plain": [
       "<Figure size 432x288 with 1 Axes>"
      ]
     },
     "metadata": {},
     "output_type": "display_data"
    }
   ],
   "source": [
    "fig = plt.figure()\n",
    "ax = fig.add_subplot(111)\n",
    "normal_error_df = error_df[(error_df['true_class']== 0) & (error_df['reconstruction_error'] < 10)]\n",
    "ax.hist(normal_error_df.reconstruction_error.values, bins=10);"
   ]
  },
  {
   "cell_type": "code",
   "execution_count": 303,
   "metadata": {},
   "outputs": [
    {
     "data": {
      "image/png": "[encoded data removed]",
      "text/plain": [
       "<Figure size 432x288 with 1 Axes>"
      ]
     },
     "metadata": {},
     "output_type": "display_data"
    }
   ],
   "source": [
    "fig = plt.figure()\n",
    "ax = fig.add_subplot(111)\n",
    "fraud_error_df = error_df[error_df['true_class'] == 1]\n",
    "ax.hist(fraud_error_df.reconstruction_error.values, bins=10);"
   ]
  },
  {
   "cell_type": "code",
   "execution_count": 262,
   "metadata": {},
   "outputs": [],
   "source": [
    "from sklearn.metrics import (confusion_matrix, auc, roc_curve, cohen_kappa_score, accuracy_score)"
   ]
  },
  {
   "cell_type": "code",
   "execution_count": 304,
   "metadata": {},
   "outputs": [
    {
     "data": {
      "image/png": "[encoded data removed]",
      "text/plain": [
       "<Figure size 432x288 with 1 Axes>"
      ]
     },
     "metadata": {},
     "output_type": "display_data"
    }
   ],
   "source": [
    "fpr, tpr, thresholds = roc_curve(error_df.true_class, error_df.reconstruction_error)\n",
    "roc_auc = auc(fpr, tpr)\n",
    "\n",
    "plt.title('Receiver Operating Characteristic')\n",
    "plt.plot(fpr, tpr, label='AUC = %0.4f'% roc_auc)\n",
    "plt.legend(loc='lower right')\n",
    "plt.plot([0,1],[0,1],'r--')\n",
    "plt.xlim([-0.001, 1])\n",
    "plt.ylim([0, 1.001])\n",
    "plt.ylabel('True Positive Rate')\n",
    "plt.xlabel('False Positive Rate')\n",
    "plt.show();"
   ]
  },
  {
   "cell_type": "code",
   "execution_count": 305,
   "metadata": {},
   "outputs": [
    {
     "data": {
      "text/plain": [
       "1.2754760891521681"
      ]
     },
     "execution_count": 305,
     "metadata": {},
     "output_type": "execute_result"
    }
   ],
   "source": [
    "threshold = normal_error_df.reconstruction_error.quantile(q=0.995)\n",
    "threshold"
   ]
  },
  {
   "cell_type": "code",
   "execution_count": 306,
   "metadata": {},
   "outputs": [
    {
     "data": {
      "image/png": "[encoded data removed]",
      "text/plain": [
       "<Figure size 432x288 with 1 Axes>"
      ]
     },
     "metadata": {},
     "output_type": "display_data"
    }
   ],
   "source": [
    "groups = error_df.groupby('true_class')\n",
    "fig, ax = plt.subplots()\n",
    "for name, group in groups:\n",
    "    if name == 1:\n",
    "        MarkerSize = 7\n",
    "        Color = 'orangered'\n",
    "        Label = 'Fraud'\n",
    "        Marker = 'd'\n",
    "    else:\n",
    "        MarkerSize = 3.5\n",
    "        Color = 'b'\n",
    "        Label = 'Normal'\n",
    "        Marker = 'o'\n",
    "    ax.plot(group.index, group.reconstruction_error, \n",
    "            linestyle='',\n",
    "            color=Color,\n",
    "            label=Label,\n",
    "            ms=MarkerSize,\n",
    "            marker=Marker)\n",
    "ax.hlines(threshold, ax.get_xlim()[0], ax.get_xlim()[1], colors=\"r\", zorder=100, label='Threshold')\n",
    "ax.legend(loc='upper left', bbox_to_anchor=(0.95, 1))\n",
    "plt.title(\"Probabilities of fraud for different classes\")\n",
    "plt.ylabel(\"Reconstruction error\")\n",
    "plt.xlabel(\"Data point index\")\n",
    "plt.show();"
   ]
  },
  {
   "cell_type": "code",
   "execution_count": 307,
   "metadata": {},
   "outputs": [
    {
     "data": {
      "image/png": "[encoded data removed]",
      "text/plain": [
       "<Figure size 864x864 with 2 Axes>"
      ]
     },
     "metadata": {},
     "output_type": "display_data"
    }
   ],
   "source": [
    "y_pred = [1 if e > threshold else 0 for e in error_df.reconstruction_error.values]\n",
    "conf_matrix = confusion_matrix(error_df.true_class, y_pred)\n",
    "\n",
    "plt.figure(figsize=(12, 12))\n",
    "sns.heatmap(conf_matrix, xticklabels=LABELS, yticklabels=LABELS, annot=True, fmt=\"d\");\n",
    "plt.title(\"Confusion matrix\")\n",
    "plt.ylabel('True class')\n",
    "plt.xlabel('Predicted class')\n",
    "plt.show()"
   ]
  },
  {
   "cell_type": "code",
   "execution_count": 308,
   "metadata": {},
   "outputs": [
    {
     "data": {
      "text/plain": [
       "(0.293111681351772, 0.9840043034107575)"
      ]
     },
     "execution_count": 308,
     "metadata": {},
     "output_type": "execute_result"
    }
   ],
   "source": [
    "cohen_kappa_score(error_df.true_class, y_pred),accuracy_score(error_df.true_class, y_pred)"
   ]
  },
  {
   "cell_type": "code",
   "execution_count": 309,
   "metadata": {},
   "outputs": [
    {
     "name": "stdout",
     "output_type": "stream",
     "text": [
      "   0    1        2   3     4      5   6   7   8   9  ...    31   32    33  \\\n",
      "0   0  tcp     http  SF   230  10066   0   0   0   0 ...   255  255  1.00   \n",
      "1   0  udp  private  SF   105    145   0   0   0   0 ...   255  227  0.89   \n",
      "2   1  tcp     smtp  SF  1888    374   0   0   0   0 ...   255  174  0.68   \n",
      "\n",
      "     34   35   36   37   38   39   40  \n",
      "0  0.00  0.0  0.0  0.0  0.0  0.0  0.0  \n",
      "1  0.01  0.0  0.0  0.0  0.0  0.0  0.0  \n",
      "2  0.03  0.0  0.0  0.0  0.0  0.0  0.0  \n",
      "\n",
      "[3 rows x 41 columns]\n"
     ]
    }
   ],
   "source": [
    "kddCupTest = pd.read_csv('kddCupTest.csv', header=None)\n",
    "print(kddCupTest.head(3))"
   ]
  },
  {
   "cell_type": "code",
   "execution_count": 310,
   "metadata": {},
   "outputs": [],
   "source": [
    "kddCupTest = pd.get_dummies(kddCupTest, ['1','2', '3'])"
   ]
  },
  {
   "cell_type": "code",
   "execution_count": 311,
   "metadata": {},
   "outputs": [],
   "source": [
    "kddCupTest = kddCupTest[featuresList]"
   ]
  },
  {
   "cell_type": "code",
   "execution_count": 312,
   "metadata": {},
   "outputs": [],
   "source": [
    "scaler = preprocessing.StandardScaler()\n",
    "scaler.fit(kddCupTest);\n"
   ]
  },
  {
   "cell_type": "code",
   "execution_count": 313,
   "metadata": {},
   "outputs": [],
   "source": [
    "kddCupTest[featuresList] = scaler.transform(kddCupTest[featuresList])"
   ]
  },
  {
   "cell_type": "code",
   "execution_count": 314,
   "metadata": {},
   "outputs": [
    {
     "data": {
      "text/html": [
       "<div>\n",
       "<style scoped>\n",
       "    .dataframe tbody tr th:only-of-type {\n",
       "        vertical-align: middle;\n",
       "    }\n",
       "\n",
       "    .dataframe tbody tr th {\n",
       "        vertical-align: top;\n",
       "    }\n",
       "\n",
       "    .dataframe thead th {\n",
       "        text-align: right;\n",
       "    }\n",
       "</style>\n",
       "<table border=\"1\" class=\"dataframe\">\n",
       "  <thead>\n",
       "    <tr style=\"text-align: right;\">\n",
       "      <th></th>\n",
       "      <th>0</th>\n",
       "      <th>4</th>\n",
       "      <th>5</th>\n",
       "      <th>6</th>\n",
       "      <th>8</th>\n",
       "      <th>9</th>\n",
       "      <th>10</th>\n",
       "      <th>11</th>\n",
       "      <th>12</th>\n",
       "      <th>13</th>\n",
       "      <th>...</th>\n",
       "      <th>2_whois</th>\n",
       "      <th>3_OTH</th>\n",
       "      <th>3_REJ</th>\n",
       "      <th>3_RSTO</th>\n",
       "      <th>3_RSTR</th>\n",
       "      <th>3_S0</th>\n",
       "      <th>3_S1</th>\n",
       "      <th>3_S2</th>\n",
       "      <th>3_S3</th>\n",
       "      <th>3_SF</th>\n",
       "    </tr>\n",
       "  </thead>\n",
       "  <tbody>\n",
       "    <tr>\n",
       "      <th>0</th>\n",
       "      <td>-0.161814</td>\n",
       "      <td>-0.021112</td>\n",
       "      <td>0.213319</td>\n",
       "      <td>0.0</td>\n",
       "      <td>-0.0034</td>\n",
       "      <td>-0.051868</td>\n",
       "      <td>-0.007121</td>\n",
       "      <td>0.636295</td>\n",
       "      <td>-0.006817</td>\n",
       "      <td>-0.016577</td>\n",
       "      <td>...</td>\n",
       "      <td>-0.002256</td>\n",
       "      <td>-0.003907</td>\n",
       "      <td>-0.262899</td>\n",
       "      <td>-0.025427</td>\n",
       "      <td>-0.017763</td>\n",
       "      <td>-0.032937</td>\n",
       "      <td>-0.024613</td>\n",
       "      <td>-0.01276</td>\n",
       "      <td>-0.007133</td>\n",
       "      <td>0.269105</td>\n",
       "    </tr>\n",
       "    <tr>\n",
       "      <th>1</th>\n",
       "      <td>-0.161814</td>\n",
       "      <td>-0.023648</td>\n",
       "      <td>-0.095420</td>\n",
       "      <td>0.0</td>\n",
       "      <td>-0.0034</td>\n",
       "      <td>-0.051868</td>\n",
       "      <td>-0.007121</td>\n",
       "      <td>-1.571597</td>\n",
       "      <td>-0.006817</td>\n",
       "      <td>-0.016577</td>\n",
       "      <td>...</td>\n",
       "      <td>-0.002256</td>\n",
       "      <td>-0.003907</td>\n",
       "      <td>-0.262899</td>\n",
       "      <td>-0.025427</td>\n",
       "      <td>-0.017763</td>\n",
       "      <td>-0.032937</td>\n",
       "      <td>-0.024613</td>\n",
       "      <td>-0.01276</td>\n",
       "      <td>-0.007133</td>\n",
       "      <td>0.269105</td>\n",
       "    </tr>\n",
       "    <tr>\n",
       "      <th>2</th>\n",
       "      <td>-0.161069</td>\n",
       "      <td>0.012523</td>\n",
       "      <td>-0.088293</td>\n",
       "      <td>0.0</td>\n",
       "      <td>-0.0034</td>\n",
       "      <td>-0.051868</td>\n",
       "      <td>-0.007121</td>\n",
       "      <td>0.636295</td>\n",
       "      <td>-0.006817</td>\n",
       "      <td>-0.016577</td>\n",
       "      <td>...</td>\n",
       "      <td>-0.002256</td>\n",
       "      <td>-0.003907</td>\n",
       "      <td>-0.262899</td>\n",
       "      <td>-0.025427</td>\n",
       "      <td>-0.017763</td>\n",
       "      <td>-0.032937</td>\n",
       "      <td>-0.024613</td>\n",
       "      <td>-0.01276</td>\n",
       "      <td>-0.007133</td>\n",
       "      <td>0.269105</td>\n",
       "    </tr>\n",
       "    <tr>\n",
       "      <th>3</th>\n",
       "      <td>-0.161814</td>\n",
       "      <td>-0.019083</td>\n",
       "      <td>-0.053968</td>\n",
       "      <td>0.0</td>\n",
       "      <td>-0.0034</td>\n",
       "      <td>-0.051868</td>\n",
       "      <td>-0.007121</td>\n",
       "      <td>0.636295</td>\n",
       "      <td>-0.006817</td>\n",
       "      <td>-0.016577</td>\n",
       "      <td>...</td>\n",
       "      <td>-0.002256</td>\n",
       "      <td>-0.003907</td>\n",
       "      <td>-0.262899</td>\n",
       "      <td>-0.025427</td>\n",
       "      <td>-0.017763</td>\n",
       "      <td>-0.032937</td>\n",
       "      <td>-0.024613</td>\n",
       "      <td>-0.01276</td>\n",
       "      <td>-0.007133</td>\n",
       "      <td>0.269105</td>\n",
       "    </tr>\n",
       "    <tr>\n",
       "      <th>4</th>\n",
       "      <td>1.794381</td>\n",
       "      <td>-0.022816</td>\n",
       "      <td>-0.096664</td>\n",
       "      <td>0.0</td>\n",
       "      <td>-0.0034</td>\n",
       "      <td>-0.051868</td>\n",
       "      <td>-0.007121</td>\n",
       "      <td>-1.571597</td>\n",
       "      <td>-0.006817</td>\n",
       "      <td>-0.016577</td>\n",
       "      <td>...</td>\n",
       "      <td>-0.002256</td>\n",
       "      <td>-0.003907</td>\n",
       "      <td>-0.262899</td>\n",
       "      <td>-0.025427</td>\n",
       "      <td>-0.017763</td>\n",
       "      <td>-0.032937</td>\n",
       "      <td>-0.024613</td>\n",
       "      <td>-0.01276</td>\n",
       "      <td>-0.007133</td>\n",
       "      <td>0.269105</td>\n",
       "    </tr>\n",
       "  </tbody>\n",
       "</table>\n",
       "<p>5 rows × 81 columns</p>\n",
       "</div>"
      ],
      "text/plain": [
       "          0         4         5    6       8         9        10        11  \\\n",
       "0 -0.161814 -0.021112  0.213319  0.0 -0.0034 -0.051868 -0.007121  0.636295   \n",
       "1 -0.161814 -0.023648 -0.095420  0.0 -0.0034 -0.051868 -0.007121 -1.571597   \n",
       "2 -0.161069  0.012523 -0.088293  0.0 -0.0034 -0.051868 -0.007121  0.636295   \n",
       "3 -0.161814 -0.019083 -0.053968  0.0 -0.0034 -0.051868 -0.007121  0.636295   \n",
       "4  1.794381 -0.022816 -0.096664  0.0 -0.0034 -0.051868 -0.007121 -1.571597   \n",
       "\n",
       "         12        13    ...      2_whois     3_OTH     3_REJ    3_RSTO  \\\n",
       "0 -0.006817 -0.016577    ...    -0.002256 -0.003907 -0.262899 -0.025427   \n",
       "1 -0.006817 -0.016577    ...    -0.002256 -0.003907 -0.262899 -0.025427   \n",
       "2 -0.006817 -0.016577    ...    -0.002256 -0.003907 -0.262899 -0.025427   \n",
       "3 -0.006817 -0.016577    ...    -0.002256 -0.003907 -0.262899 -0.025427   \n",
       "4 -0.006817 -0.016577    ...    -0.002256 -0.003907 -0.262899 -0.025427   \n",
       "\n",
       "     3_RSTR      3_S0      3_S1     3_S2      3_S3      3_SF  \n",
       "0 -0.017763 -0.032937 -0.024613 -0.01276 -0.007133  0.269105  \n",
       "1 -0.017763 -0.032937 -0.024613 -0.01276 -0.007133  0.269105  \n",
       "2 -0.017763 -0.032937 -0.024613 -0.01276 -0.007133  0.269105  \n",
       "3 -0.017763 -0.032937 -0.024613 -0.01276 -0.007133  0.269105  \n",
       "4 -0.017763 -0.032937 -0.024613 -0.01276 -0.007133  0.269105  \n",
       "\n",
       "[5 rows x 81 columns]"
      ]
     },
     "execution_count": 314,
     "metadata": {},
     "output_type": "execute_result"
    }
   ],
   "source": [
    "kddCupTest.head()"
   ]
  },
  {
   "cell_type": "code",
   "execution_count": 242,
   "metadata": {},
   "outputs": [
    {
     "data": {
      "text/plain": [
       "array([0.17692018, 0.03023698, 0.00157467, ..., 0.00853591, 0.0006726 ,\n",
       "       0.36969077])"
      ]
     },
     "execution_count": 242,
     "metadata": {},
     "output_type": "execute_result"
    }
   ],
   "source": [
    "testMSE"
   ]
  },
  {
   "cell_type": "code",
   "execution_count": 315,
   "metadata": {},
   "outputs": [],
   "source": [
    "testPredictions = autoencoder.predict(kddCupTest)\n",
    "\n",
    "testMSE = mean_squared_error(kddCupTest.transpose(), testPredictions.transpose(),\n",
    "                              multioutput='raw_values')"
   ]
  },
  {
   "cell_type": "code",
   "execution_count": 317,
   "metadata": {},
   "outputs": [],
   "source": [
    "result_df = pd.DataFrame({'reconstruction_error': testMSE})\n",
    "result_df.to_csv('filename.csv')"
   ]
  },
  {
   "cell_type": "code",
   "execution_count": 319,
   "metadata": {},
   "outputs": [
    {
     "data": {
      "text/html": [
       "<div>\n",
       "<style scoped>\n",
       "    .dataframe tbody tr th:only-of-type {\n",
       "        vertical-align: middle;\n",
       "    }\n",
       "\n",
       "    .dataframe tbody tr th {\n",
       "        vertical-align: top;\n",
       "    }\n",
       "\n",
       "    .dataframe thead th {\n",
       "        text-align: right;\n",
       "    }\n",
       "</style>\n",
       "<table border=\"1\" class=\"dataframe\">\n",
       "  <thead>\n",
       "    <tr style=\"text-align: right;\">\n",
       "      <th></th>\n",
       "      <th>reconstruction_error</th>\n",
       "    </tr>\n",
       "  </thead>\n",
       "  <tbody>\n",
       "    <tr>\n",
       "      <th>0</th>\n",
       "      <td>0.013043</td>\n",
       "    </tr>\n",
       "    <tr>\n",
       "      <th>1</th>\n",
       "      <td>0.034606</td>\n",
       "    </tr>\n",
       "    <tr>\n",
       "      <th>2</th>\n",
       "      <td>0.048590</td>\n",
       "    </tr>\n",
       "    <tr>\n",
       "      <th>3</th>\n",
       "      <td>0.009127</td>\n",
       "    </tr>\n",
       "    <tr>\n",
       "      <th>4</th>\n",
       "      <td>0.026516</td>\n",
       "    </tr>\n",
       "  </tbody>\n",
       "</table>\n",
       "</div>"
      ],
      "text/plain": [
       "   reconstruction_error\n",
       "0              0.013043\n",
       "1              0.034606\n",
       "2              0.048590\n",
       "3              0.009127\n",
       "4              0.026516"
      ]
     },
     "execution_count": 319,
     "metadata": {},
     "output_type": "execute_result"
    }
   ],
   "source": [
    "result_df.head()"
   ]
  },
  {
   "cell_type": "code",
   "execution_count": 275,
   "metadata": {},
   "outputs": [
    {
     "data": {
      "text/plain": [
       "81"
      ]
     },
     "execution_count": 275,
     "metadata": {},
     "output_type": "execute_result"
    }
   ],
   "source": [
    "len(featuresList)"
   ]
  }
 ],
 "metadata": {
  "kernelspec": {
   "display_name": "Python 3.6.4",
   "language": "python",
   "name": "python3"
  },
  "language_info": {
   "codemirror_mode": {
    "name": "ipython",
    "version": 3
   },
   "file_extension": ".py",
   "mimetype": "text/x-python",
   "name": "python",
   "nbconvert_exporter": "python",
   "pygments_lexer": "ipython3",
   "version": "3.6.4"
  }
 },
 "nbformat": 4,
 "nbformat_minor": 2
}
